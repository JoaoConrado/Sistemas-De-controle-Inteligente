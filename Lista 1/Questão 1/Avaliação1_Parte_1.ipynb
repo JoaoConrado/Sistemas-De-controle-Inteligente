{
  "nbformat": 4,
  "nbformat_minor": 0,
  "metadata": {
    "colab": {
      "provenance": [],
      "collapsed_sections": [
        "43xuEfXxhWMb",
        "3tbQzfNuhbuy",
        "YTEP3gdPruwl"
      ]
    },
    "kernelspec": {
      "name": "python3",
      "display_name": "Python 3"
    },
    "language_info": {
      "name": "python"
    }
  },
  "cells": [
    {
      "cell_type": "markdown",
      "source": [
        "## Instalações e Imports"
      ],
      "metadata": {
        "id": "43xuEfXxhWMb"
      }
    },
    {
      "cell_type": "code",
      "source": [
        "!pip install scikit-fuzzy\n",
        "!pip install scipy\n"
      ],
      "metadata": {
        "id": "6OQfBKg9rnUQ"
      },
      "execution_count": null,
      "outputs": []
    },
    {
      "cell_type": "code",
      "execution_count": null,
      "metadata": {
        "id": "bTA1i6qFHVWn"
      },
      "outputs": [],
      "source": [
        "import numpy as np\n",
        "import matplotlib.pyplot as plt\n",
        "import math\n",
        "import random\n",
        "import skfuzzy as fuzz\n",
        "from skfuzzy import control as ctrl\n",
        "from scipy import signal\n"
      ]
    },
    {
      "cell_type": "markdown",
      "source": [
        "## SCI\n",
        "Desenvolva aqui o código do seu Sistema de Controle Inteligente Fuzzy.\n",
        "Lembre-se de que o nome do Control System Simulation deve ser \"motorcc\"."
      ],
      "metadata": {
        "id": "3tbQzfNuhbuy"
      }
    },
    {
      "cell_type": "code",
      "source": [],
      "metadata": {
        "id": "JvtaW3gZm_5c"
      },
      "execution_count": null,
      "outputs": []
    },
    {
      "cell_type": "code",
      "source": [
        "# Lembre-se de que o nome do Control System Simulation deve ser \"motorcc\": motorcc = ctrl.ControlSystemSimulation(motorcc_ctrl)"
      ],
      "metadata": {
        "id": "sh2QumHJuGvS"
      },
      "execution_count": null,
      "outputs": []
    },
    {
      "cell_type": "markdown",
      "source": [
        "## Inferência\n",
        "A entrada deve ser uma simulação de controle com o nome \"motorcc\""
      ],
      "metadata": {
        "id": "YTEP3gdPruwl"
      }
    },
    {
      "cell_type": "code",
      "source": [
        "# Constantes do motor\n",
        "\n",
        "pi = math.pi\n",
        "\n",
        "Pn = 7457 # Potência nominal (W)\n",
        "Vn = 240  # Tensão nominal de armadura (V)\n",
        "Vfn = 300 # Tensão nominal de campo (V)\n",
        "wn = 1750 * 2 * pi / 60 # velocidade angular nominal (rad/s)\n",
        "Tn = Pn / wn # Torque nominal (Nm)\n",
        "\n",
        "Ra = 1.086    # Resistência do armadura (Ohms)\n",
        "La = 0.01216  # Indutância do armadura (H)\n",
        "Rf = 180\n",
        "Lf = 71.47\n",
        "Laf = 0.6458 # Este é o Kv da simulação matlab\n",
        "J = 0.04251   # Inércia do rotor (kg.m^2)\n",
        "B = 0.003406    # Coeficiente de atrito viscoso (Nms)\n",
        "Tf = 1.046\n",
        "\n",
        "If = Vfn / Rf\n",
        "Ke = Laf*If\n",
        "Kt = Ke\n"
      ],
      "metadata": {
        "id": "fwyzqPNULbwc"
      },
      "execution_count": null,
      "outputs": []
    },
    {
      "cell_type": "code",
      "source": [
        "# Parâmetros de simulação\n",
        "dt = 1e-2  # Passo de tempo (s)\n",
        "t_sim = 10\n",
        "\n",
        "# Inicialização\n",
        "t = np.arange(0, t_sim, dt)\n",
        "i = np.zeros_like(t)\n",
        "w = np.zeros_like(t)\n",
        "\n",
        "max = np.ones_like(t) * 200\n",
        "min = np.ones_like(t) * 180\n",
        "\n",
        "# Condições iniciais\n",
        "i[0] = 0\n",
        "w[0] = 100\n",
        "\n",
        "# Gerar ruído aleatório\n",
        "ruido = np.random.rand(len(t))\n",
        "\n",
        "# Criar um filtro passa-baixa Butterworth\n",
        "fc = 2  # Frequência de corte (ajuste para controlar a suavidade)\n",
        "ordem = 4  # Ordem do filtro (ajuste para controlar a suavidade)\n",
        "b, a = signal.butter(ordem, fc * dt * 2, 'lowpass')\n",
        "\n",
        "T_minimo = 0.1 * Tn  # Valor mínimo de torque\n",
        "T_suave = signal.filtfilt(b, a, ruido) * Tn + T_minimo\n",
        "\n",
        "# Plotar o ruído original e o ruído suavizado\n",
        "plt.title('Torque de Entrada')\n",
        "plt.plot(t, T_suave)\n",
        "plt.show()\n",
        "\n",
        "# Loop de simulação\n",
        "for k in range(len(t) - 1):\n",
        "    T = T_suave[k]\n",
        "\n",
        "    motorcc.input['Velocidade Angular'] = w[k]\n",
        "    motorcc.input['Torque da Carga'] = T\n",
        "    motorcc.compute()\n",
        "\n",
        "    V = motorcc.output['Tensão']\n",
        "\n",
        "    # Calcular a corrente e a velocidade no próximo passo de tempo\n",
        "    i[k+1] = i[k] + dt * (V - Ra*i[k] - Ke*w[k]) / La\n",
        "    w[k+1] = w[k] + dt * (Kt*i[k] - T - B*w[k]) / J\n",
        "\n",
        "# Plotar os resultados\n",
        "plt.title('Velocidade Controlada')\n",
        "plt.plot(t, max, color = 'red', )\n",
        "plt.plot(t, min, color = 'red')\n",
        "plt.plot(t, w)\n",
        "plt.show()"
      ],
      "metadata": {
        "id": "jvpGdC6R9BXw"
      },
      "execution_count": null,
      "outputs": []
    }
  ]
}