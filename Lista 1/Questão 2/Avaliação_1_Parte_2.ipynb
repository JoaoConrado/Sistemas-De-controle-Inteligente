{
  "nbformat": 4,
  "nbformat_minor": 0,
  "metadata": {
    "colab": {
      "provenance": [],
      "private_outputs": true,
      "collapsed_sections": [
        "tjDsYTAdujEc",
        "iOSXrdVwudg3",
        "jZ-tGVQxufj0"
      ]
    },
    "kernelspec": {
      "name": "python3",
      "display_name": "Python 3"
    },
    "accelerator": "GPU"
  },
  "cells": [
    {
      "cell_type": "markdown",
      "source": [
        "## Install e Imports\n",
        "Talvez o GColab solicite que você reinicie o ambiente para fazer a instalação, basta aceitar a reinicialização e rodar as instalações novamente."
      ],
      "metadata": {
        "id": "tjDsYTAdujEc"
      }
    },
    {
      "cell_type": "code",
      "source": [
        "!pip install scikit-fuzzy\n",
        "\n",
        "# Gym Dependencies\n",
        "!apt-get update > /dev/null 2>&1\n",
        "!apt-get install cmake > /dev/null 2>&1\n",
        "!pip install --upgrade setuptools 2>&1\n",
        "!pip install ez_setup > /dev/null 2>&1\n",
        "!pip install gym[atari] > /dev/null 2>&1\n",
        "!pip install gym[box2d] > /dev/null 2>&1\n",
        "\n",
        "# Rendering Dependencies\n",
        "# !pip install gym pyvirtualdisplay > /dev/null 2>&1\n",
        "# !apt-get install -y xvfb python-opengl ffmpeg > /dev/null 2>&1\n",
        "\n",
        "!apt-get install xvfb # install Xvfb\n",
        "!pip install pyvirtualdisplay # install required package"
      ],
      "metadata": {
        "id": "pg6R6T1f5yHm"
      },
      "execution_count": null,
      "outputs": []
    },
    {
      "cell_type": "code",
      "execution_count": null,
      "metadata": {
        "id": "8e86a8e9-e214-4189-a1ee-d53b2ffcf366"
      },
      "outputs": [],
      "source": [
        "#Importando as dependências\n",
        "import gym\n",
        "import numpy as np\n",
        "import skfuzzy as fuzz\n",
        "from skfuzzy import control as ctrl\n",
        "import time\n",
        "\n",
        "import pygame\n",
        "\n",
        "# Initialize Pygame\n",
        "pygame.init()\n",
        "\n",
        "from gym import logger as gymlogger\n",
        "from gym.wrappers.record_video import RecordVideo # import RecordVideo instead of Monitor\n",
        "gymlogger.set_level(40) #error only\n",
        "\n",
        "import tensorflow as tf\n",
        "import random\n",
        "import matplotlib\n",
        "import matplotlib.pyplot as plt\n",
        "%matplotlib inline\n",
        "import math\n",
        "import glob\n",
        "import io\n",
        "import base64\n",
        "from IPython.display import HTML\n",
        "\n",
        "from IPython import display as ipythondisplay"
      ]
    },
    {
      "cell_type": "code",
      "source": [
        "\n",
        "\n",
        "# Google Colab needs to render the environment to a virtual display\n",
        "# we will record this as a video and play it after the training has finished\n",
        "from pyvirtualdisplay import Display\n",
        "display = Display(visible=0, size=(1400, 900))\n",
        "display.start()\n",
        "\n",
        "\"\"\"\n",
        "Utility functions to enable video recording of gym environment and displaying it\n",
        "To enable video, just do \"env = wrap_env(env)\"\"\n",
        "\"\"\"\n",
        "\n",
        "def show_video():\n",
        "  mp4list = glob.glob('video/*.mp4')\n",
        "  if len(mp4list) > 0:\n",
        "    mp4 = mp4list[-1]\n",
        "    video = io.open(mp4, 'r+b').read()\n",
        "    encoded = base64.b64encode(video)\n",
        "    ipythondisplay.display(HTML(data='''<video alt=\"test\" autoplay\n",
        "                controls style=\"height: 400px;\">\n",
        "                <source src=\"data:video/mp4;base64,{0}\" type=\"video/mp4\" />\n",
        "             </video>'''.format(encoded.decode('ascii'))))\n",
        "  else:\n",
        "    print(\"Could not find video\")\n",
        "\n",
        "\n",
        "def wrap_env(env):\n",
        "  env = RecordVideo(env, './video')\n",
        "  return env"
      ],
      "metadata": {
        "id": "5O61XcsrJtf8"
      },
      "execution_count": null,
      "outputs": []
    },
    {
      "cell_type": "markdown",
      "source": [
        "## SCI\n",
        "Desenvolva aqui o código do seu Sistema de Controle Inteligente Fuzzy.\n",
        "\n",
        "Lembre-se de que o nome do Control System Simulation deve ser \"cp\"."
      ],
      "metadata": {
        "id": "iOSXrdVwudg3"
      }
    },
    {
      "cell_type": "code",
      "source": [],
      "metadata": {
        "id": "6xCh9gbSxAOS"
      },
      "execution_count": null,
      "outputs": []
    },
    {
      "cell_type": "code",
      "source": [
        "# Lembre-se de que o nome do Control System Simulation deve ser \"cp\": motorcc = ctrl.ControlSystemSimulation(XXXXXX)"
      ],
      "metadata": {
        "id": "eMWEfhA8rVPP"
      },
      "execution_count": null,
      "outputs": []
    },
    {
      "cell_type": "markdown",
      "source": [
        "## Inferência\n",
        "Irá gerar o vídeo do Cartpole e abaixo dele uma frase informando quantos passos levou para o Pole cair."
      ],
      "metadata": {
        "id": "jZ-tGVQxufj0"
      }
    },
    {
      "cell_type": "code",
      "execution_count": null,
      "metadata": {
        "id": "f48b36d4-7b41-4c59-91a1-f0515e24494e"
      },
      "outputs": [],
      "source": [
        "\n",
        "# env = gym.make('MountainCar-v0')\n",
        "\n",
        "env = wrap_env(gym.make('CartPole-v1'))\n",
        "\n",
        "obs = env.reset() #reset the environment and see the initial observation\n",
        "\n",
        "max_passo = 500\n",
        "passo = 0\n",
        "\n",
        "while passo <= max_passo:\n",
        "    time.sleep(0)\n",
        "    passo += 1\n",
        "\n",
        "    #total_reward = 0\n",
        "    env.render() #rendenrização do ambiente a ser utilizado\n",
        "\n",
        "    # action = env.action_space.sample()\n",
        "\n",
        "\n",
        "    angle_value = obs[2]\n",
        "    angular_velocity_value = obs[3]\n",
        "    cp.input['angle'] = angle_value\n",
        "    cp.input['angular_velocity'] = angular_velocity_value\n",
        "    cp.compute()\n",
        "\n",
        "    action = int(cp.output['action'])\n",
        "\n",
        "    obs, reward, done, info = env.step(action)\n",
        "\n",
        "\n",
        "    if passo == max_passo:\n",
        "      print(f\"Parabéns! Você chegou ao máximo de passos possível! 500 passos sem derrubar o Pole!!\")\n",
        "      break\n",
        "\n",
        "    else:\n",
        "      if done:\n",
        "        # print(\"Você levou \" + str(passo) + \" passos para derrubar o Pole!\")\n",
        "        # observation = env.reset() # Reset the environment instead of closing and recreating it\n",
        "        break\n",
        "\n",
        "\n",
        "env.close()\n",
        "\n",
        "\n",
        "show_video()\n",
        "print(\"Você levou \" + str(passo) + \" passos para derrubar o Pole!\")\n"
      ]
    }
  ]
}